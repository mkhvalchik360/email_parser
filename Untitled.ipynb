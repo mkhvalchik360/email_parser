{
 "cells": [
  {
   "cell_type": "code",
   "execution_count": null,
   "id": "spiritual-swift",
   "metadata": {},
   "outputs": [],
   "source": [
    "%config Completer.use_jedi = False\n",
    "%load_ext autoreload\n",
    "%autoreload 2"
   ]
  },
  {
   "cell_type": "code",
   "execution_count": 1,
   "id": "stopped-single",
   "metadata": {},
   "outputs": [],
   "source": [
    "import tensorflow\n",
    "import regex"
   ]
  },
  {
   "cell_type": "code",
   "execution_count": 2,
   "id": "numeric-handle",
   "metadata": {},
   "outputs": [],
   "source": [
    "from transformers import pipeline"
   ]
  },
  {
   "cell_type": "code",
   "execution_count": 3,
   "id": "numerous-overall",
   "metadata": {},
   "outputs": [],
   "source": [
    "from email_parser import nlp"
   ]
  },
  {
   "cell_type": "code",
   "execution_count": 4,
   "id": "studied-oracle",
   "metadata": {},
   "outputs": [],
   "source": [
    "text = \"\"\"tel: 512 222 5555\"\"\""
   ]
  },
  {
   "cell_type": "code",
   "execution_count": 5,
   "id": "pacific-walter",
   "metadata": {},
   "outputs": [
    {
     "data": {
      "text/plain": [
       "'en'"
      ]
     },
     "execution_count": 5,
     "metadata": {},
     "output_type": "execute_result"
    }
   ],
   "source": [
    "lang = nlp.f_detect_language(text)\n",
    "lang"
   ]
  },
  {
   "cell_type": "code",
   "execution_count": 6,
   "id": "every-gardening",
   "metadata": {},
   "outputs": [
    {
     "data": {
      "text/html": [
       "<div>\n",
       "<style scoped>\n",
       "    .dataframe tbody tr th:only-of-type {\n",
       "        vertical-align: middle;\n",
       "    }\n",
       "\n",
       "    .dataframe tbody tr th {\n",
       "        vertical-align: top;\n",
       "    }\n",
       "\n",
       "    .dataframe thead th {\n",
       "        text-align: right;\n",
       "    }\n",
       "</style>\n",
       "<table border=\"1\" class=\"dataframe\">\n",
       "  <thead>\n",
       "    <tr style=\"text-align: right;\">\n",
       "      <th></th>\n",
       "      <th>entity</th>\n",
       "      <th>value</th>\n",
       "      <th>start</th>\n",
       "      <th>end</th>\n",
       "      <th>score</th>\n",
       "    </tr>\n",
       "  </thead>\n",
       "  <tbody>\n",
       "    <tr>\n",
       "      <th>0</th>\n",
       "      <td>TEL</td>\n",
       "      <td>512 222 5555</td>\n",
       "      <td>5</td>\n",
       "      <td>17</td>\n",
       "      <td>1</td>\n",
       "    </tr>\n",
       "  </tbody>\n",
       "</table>\n",
       "</div>"
      ],
      "text/plain": [
       "  entity         value  start  end  score\n",
       "0    TEL  512 222 5555      5   17      1"
      ]
     },
     "execution_count": 6,
     "metadata": {},
     "output_type": "execute_result"
    }
   ],
   "source": [
    "df_result = nlp.f_ner(text, lang=lang)\n",
    "df_result"
   ]
  },
  {
   "cell_type": "code",
   "execution_count": null,
   "id": "operating-recorder",
   "metadata": {},
   "outputs": [],
   "source": []
  },
  {
   "cell_type": "code",
   "execution_count": 16,
   "id": "delayed-overhead",
   "metadata": {},
   "outputs": [
    {
     "data": {
      "text/html": [
       "<div>\n",
       "<style scoped>\n",
       "    .dataframe tbody tr th:only-of-type {\n",
       "        vertical-align: middle;\n",
       "    }\n",
       "\n",
       "    .dataframe tbody tr th {\n",
       "        vertical-align: top;\n",
       "    }\n",
       "\n",
       "    .dataframe thead th {\n",
       "        text-align: right;\n",
       "    }\n",
       "</style>\n",
       "<table border=\"1\" class=\"dataframe\">\n",
       "  <thead>\n",
       "    <tr style=\"text-align: right;\">\n",
       "      <th></th>\n",
       "      <th>entity</th>\n",
       "      <th>value</th>\n",
       "      <th>start</th>\n",
       "      <th>end</th>\n",
       "      <th>score</th>\n",
       "    </tr>\n",
       "  </thead>\n",
       "  <tbody>\n",
       "    <tr>\n",
       "      <th>0</th>\n",
       "      <td>SIGNATURE</td>\n",
       "      <td>JB</td>\n",
       "      <td>119</td>\n",
       "      <td>122</td>\n",
       "      <td>0.955208</td>\n",
       "    </tr>\n",
       "  </tbody>\n",
       "</table>\n",
       "</div>"
      ],
      "text/plain": [
       "      entity value  start  end     score\n",
       "0  SIGNATURE    JB    119  122  0.955208"
      ]
     },
     "execution_count": 16,
     "metadata": {},
     "output_type": "execute_result"
    }
   ],
   "source": [
    "nlp.f_detect_email_signature(text, lang=\"fr\")"
   ]
  },
  {
   "cell_type": "code",
   "execution_count": 33,
   "id": "frozen-jones",
   "metadata": {},
   "outputs": [
    {
     "data": {
      "text/plain": [
       "[('je', None), (\"m'appelle\", None), ('Jean-Baptiste', 'PER')]"
      ]
     },
     "execution_count": 33,
     "metadata": {},
     "output_type": "execute_result"
    }
   ],
   "source": [
    "iter_match = regex.finditer(\"\\s|$\", text)\n",
    "list_values = []\n",
    "start_pos = 0\n",
    "for match in iter_match:\n",
    "    word = match.string[start_pos:match.start()]\n",
    "    \n",
    "    df_entity = df_result.query(f\"start>={start_pos} & end<={match.start()}\").head(1)\n",
    "    if len(df_entity)==1:\n",
    "        entity = df_entity[\"entity\"].values[0]\n",
    "    else:\n",
    "        entity = None\n",
    "#     list_values\n",
    "    list_values.append((word, entity))\n",
    "    start_pos = match.end()\n",
    "list_values\n",
    "    "
   ]
  },
  {
   "cell_type": "code",
   "execution_count": null,
   "id": "solid-speaker",
   "metadata": {},
   "outputs": [],
   "source": []
  }
 ],
 "metadata": {
  "kernelspec": {
   "display_name": "Python 3",
   "language": "python",
   "name": "python3"
  },
  "language_info": {
   "codemirror_mode": {
    "name": "ipython",
    "version": 3
   },
   "file_extension": ".py",
   "mimetype": "text/x-python",
   "name": "python",
   "nbconvert_exporter": "python",
   "pygments_lexer": "ipython3",
   "version": "3.7.10"
  }
 },
 "nbformat": 4,
 "nbformat_minor": 5
}
